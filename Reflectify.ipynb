{
 "cells": [
  {
   "cell_type": "code",
   "execution_count": 17,
   "id": "f6f64342",
   "metadata": {},
   "outputs": [
    {
     "name": "stdout",
     "output_type": "stream",
     "text": [
      "Searching for songs by Adam Melchor...\n",
      "\n",
      "Song 1: \"30 MINUTES\"\n",
      "Song 2: \"ANYTHING\"\n",
      "Song 3: \"August\"\n",
      "\n",
      "Reached user-specified song limit (3).\n",
      "Done. Found 3 songs.\n",
      "Adam Melchor, 3 songs\n",
      "Searching for \"Joyride\" by Adam Melchor...\n",
      "Done.\n",
      "[Verse 1]\n",
      "Someone stole the Chevy from the driveway\n",
      "Bet  you woulda let it go for free\n",
      "You  said they wouldn't make it to the highway\n",
      "Let alone to the end of the street\n",
      "The title's still signed under our name\n",
      "The  registration's been out of date for weeks\n",
      "If  the cops didn't already find them\n",
      "They're probably breaking down as we speak\n",
      "\n",
      "[Chorus]\n",
      "I  think we're better off without it\n",
      "One day we will laugh about this\n",
      "Mighta left the windows cracked\n",
      "Mighta left the keys on the dash\n",
      "I'm  not even mad about it\n",
      "We know we're gonna live without it\n",
      "Wish we took it for a joyride before the joy died\n",
      "\n",
      "[Verse 2]\n",
      "I could go and buy a motorcycle\n",
      "With a sissy bar to sit you on the back\n",
      "But every mile feels like survival\n",
      "When you're always so afraid you're gonna crash\n",
      "I'm sure that after just a little while\n",
      "We both decide that we should take it back\n",
      "Pulling on the throttle with white knuckles\n",
      "Oh honey, we're just not cut out for that\n",
      "Maybe letting go isn't so bad\n",
      "[Chorus]\n",
      "I think we're better off without it\n",
      "One day we will laugh about this\n",
      "Mighta left the windows cracked\n",
      "Mighta left the keys on the dash\n",
      "I'm not even mad about it\n",
      "We know we're gonna live without it\n",
      "Wish we took it for a joyride before the joy died\n",
      "\n",
      "[Bridge]\n",
      "Things were going our way\n",
      "But they kept going till they were gone, oh\n",
      "\n",
      "[Chorus]\n",
      "I think we're better off without it\n",
      "One day we will laugh about this\n",
      "Mighta left the windows cracked\n",
      "Mighta left the keys on the dash\n",
      "I'm not even mad about it\n",
      "We know we're gonna live without it\n",
      "Wish we took it for a joyride before the joy died\n",
      "Wish we took it for a joyride before the joy diedEmbedShare URLCopyEmbedCopy\n"
     ]
    }
   ],
   "source": [
    "import spotipy\n",
    "import pandas as pd\n",
    "import numpy as np\n",
    "from spotipy.oauth2 import SpotifyClientCredentials\n",
    "from spotipy.oauth2 import SpotifyOAuth\n",
    "import lyricsgenius\n",
    "\n",
    "keys = pd.read_csv(\"keys.csv\")\n",
    "\n",
    "sp = spotipy.Spotify(auth_manager=SpotifyOAuth(client_id=keys.SpotifyClientId[0],\n",
    "                                               client_secret=keys.SpotifyClientSecret[0],\n",
    "                                               redirect_uri=keys.RedirectUri[0],\n",
    "                                               scope=\"user-library-read\",\n",
    "                                               open_browser=False))\n",
    "\n",
    "genius = lyricsgenius.Genius(keys.GeniusClientAccessToken[0])\n",
    "\n",
    "artist = genius.search_artist(\"Adam Melchor\", max_songs=3, sort=\"title\", include_features=True)\n",
    "print(artist)\n",
    "\n",
    "song = genius.search_song(\"Joyride\", artist.name)\n",
    "print(song.lyrics)"
   ]
  },
  {
   "cell_type": "markdown",
   "id": "c4ad2229",
   "metadata": {},
   "source": [
    "## Build a Genius "
   ]
  }
 ],
 "metadata": {
  "environment": {
   "name": "tf2-gpu.2-5.m76",
   "type": "gcloud",
   "uri": "gcr.io/deeplearning-platform-release/tf2-gpu.2-5:m76"
  },
  "kernelspec": {
   "display_name": "Python 3",
   "language": "python",
   "name": "python3"
  },
  "language_info": {
   "codemirror_mode": {
    "name": "ipython",
    "version": 3
   },
   "file_extension": ".py",
   "mimetype": "text/x-python",
   "name": "python",
   "nbconvert_exporter": "python",
   "pygments_lexer": "ipython3",
   "version": "3.7.10"
  }
 },
 "nbformat": 4,
 "nbformat_minor": 5
}
